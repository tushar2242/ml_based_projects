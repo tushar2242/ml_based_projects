{
  "nbformat": 4,
  "nbformat_minor": 0,
  "metadata": {
    "colab": {
      "provenance": []
    },
    "kernelspec": {
      "name": "python3",
      "display_name": "Python 3"
    },
    "language_info": {
      "name": "python"
    }
  },
  "cells": [
    {
      "cell_type": "code",
      "execution_count": 35,
      "metadata": {
        "id": "4RAbU-m1PJ86"
      },
      "outputs": [],
      "source": [
        "import numpy as np\n",
        "import random\n",
        "import string\n",
        "import nltk"
      ]
    },
    {
      "cell_type": "code",
      "source": [
        "f =open('chatbot.txt','r',errors='ignore')\n",
        "raw_data =f.read()\n",
        "raw_data = raw_data.lower()\n",
        "nltk.download('punkt')\n",
        "nltk.download('wordnet')\n",
        "sent_token = nltk.sent_tokenize(raw_data)\n",
        "word_token = nltk.word_tokenize(raw_data)\n"
      ],
      "metadata": {
        "colab": {
          "base_uri": "https://localhost:8080/"
        },
        "id": "f0gFbpg5PgpY",
        "outputId": "83dc07b3-78f5-40e7-bb99-7b04eb9f0029"
      },
      "execution_count": 36,
      "outputs": [
        {
          "output_type": "stream",
          "name": "stderr",
          "text": [
            "[nltk_data] Downloading package punkt to /root/nltk_data...\n",
            "[nltk_data]   Package punkt is already up-to-date!\n",
            "[nltk_data] Downloading package wordnet to /root/nltk_data...\n",
            "[nltk_data]   Package wordnet is already up-to-date!\n"
          ]
        }
      ]
    },
    {
      "cell_type": "code",
      "source": [
        "word_token[:2]"
      ],
      "metadata": {
        "colab": {
          "base_uri": "https://localhost:8080/"
        },
        "id": "Pv6B3hUEfapy",
        "outputId": "b693fff8-39a5-4123-d438-beff187aa0df"
      },
      "execution_count": 37,
      "outputs": [
        {
          "output_type": "execute_result",
          "data": {
            "text/plain": [
              "['reinforcement', 'learning']"
            ]
          },
          "metadata": {},
          "execution_count": 37
        }
      ]
    },
    {
      "cell_type": "code",
      "source": [
        "sent_token[:3]"
      ],
      "metadata": {
        "colab": {
          "base_uri": "https://localhost:8080/"
        },
        "id": "iTto14dDZIX6",
        "outputId": "a9f92353-7091-4fe0-a372-7950c9ee1f63"
      },
      "execution_count": 38,
      "outputs": [
        {
          "output_type": "execute_result",
          "data": {
            "text/plain": [
              "['\\nreinforcement learning is an area of machine learning.',\n",
              " 'it is about taking suitable action to maximize reward in a particular situation.',\n",
              " 'it is employed by various software and machines to find the best possible behavior or path it should take in a specific situation.']"
            ]
          },
          "metadata": {},
          "execution_count": 38
        }
      ]
    },
    {
      "cell_type": "code",
      "source": [
        "lemmer = nltk.stem.WordNetLemmatizer()\n",
        "def LemToken(tokens):\n",
        "  return [lemmer.lemmatize(token) for token in tokens]\n",
        "\n",
        "remove_punct = dict((ord(punc),None) for punc in string.punctuation)\n",
        "\n",
        "def LemNormalize(text):\n",
        "  return LemToken(nltk.word_tokenize(text.lower().translate(remove_punct)))\n"
      ],
      "metadata": {
        "id": "_Xfo22ohfgDr"
      },
      "execution_count": 39,
      "outputs": []
    },
    {
      "cell_type": "code",
      "source": [
        "Greet_Input =('hello','hi','How May i Help You','hey')\n",
        "Greet_Response=['hi','hello','hi there','i am glad to know you are here']\n",
        "def greet(sentences):\n",
        "\n",
        "    for word in sentences.split():\n",
        "      if word.lower() in Greet_Input:\n",
        "        return random.choice(Greet_Response)"
      ],
      "metadata": {
        "id": "Q0aLIQOBhsKh"
      },
      "execution_count": 40,
      "outputs": []
    },
    {
      "cell_type": "code",
      "source": [
        "from sklearn.feature_extraction.text import TfidfVectorizer\n",
        "from sklearn.metrics.pairwise import cosine_similarity"
      ],
      "metadata": {
        "id": "K5xLXTPCpBVL"
      },
      "execution_count": 41,
      "outputs": []
    },
    {
      "cell_type": "code",
      "source": [
        "def response(user_response):\n",
        "  robot1_response=''\n",
        "  TfidVec = TfidfVectorizer(tokenizer=LemNormalize,stop_words='english')\n",
        "  tfidf = TfidVec.fit_transform(sent_token)\n",
        "  vals=cosine_similarity(tfidf[-1],tfidf)\n",
        "  idx=vals.argsort()[0][-3]\n",
        "  flat = vals.flatten()\n",
        "  flat.sort()\n",
        "  req_tfidf = flat[-3]\n",
        "  if(req_tfidf==0):\n",
        "    robot1_response = robot1_response+\"I am sorry! I don't understand you\"\n",
        "    return robot1_response\n",
        "\n",
        "  else:\n",
        "    robot1_response = robot1_response+sent_token[idx]\n",
        "    return robot1_response"
      ],
      "metadata": {
        "id": "-dsGaVGF176y"
      },
      "execution_count": 44,
      "outputs": []
    },
    {
      "cell_type": "code",
      "source": [
        "flag=True\n",
        "print(\"Bot : My name is stark. Let's have a conversation! Also, if you want to exit any time just type bye!\")\n",
        "while(flag==True):\n",
        "  user_response = input()\n",
        "  user_response=user_response.lower()\n",
        "  if(user_response!='bye'):\n",
        "    if(user_response=='thanks' or user_response == 'thank you'):\n",
        "       flag=False\n",
        "       print(\"Glad to Help You...\")\n",
        "    else:\n",
        "      if(greet(user_response)!=None):\n",
        "        print(\"Bot :\"+greet(user_response))\n",
        "      else:\n",
        "        sent_token.append(user_response)\n",
        "        word_token = word_token+nltk.word_tokenize(user_response)\n",
        "        final_word= list(set(word_token))\n",
        "        print(\"Bot : \",end=\"\")\n",
        "        print(response(user_response))\n",
        "        sent_token.remove(user_response)\n",
        "  else:\n",
        "    flag=False\n",
        "    print(\"Bot :GoodBye ! Take care>3\")"
      ],
      "metadata": {
        "colab": {
          "base_uri": "https://localhost:8080/"
        },
        "id": "jf1RAl428T4o",
        "outputId": "393e2051-aff3-4e79-e0f7-f4d612c5c3df"
      },
      "execution_count": 45,
      "outputs": [
        {
          "output_type": "stream",
          "name": "stdout",
          "text": [
            "Bot : My name is stark. Let's have a conversation! Also, if you want to exit any time just type bye!\n",
            "data\n",
            "Bot : in rl, the data is accumulated from machine learning systems that use a trial-and-error method.\n",
            "bye\n",
            "Bot :GoodBye ! Take care>3\n"
          ]
        }
      ]
    },
    {
      "cell_type": "code",
      "source": [],
      "metadata": {
        "id": "HjY4Js7lAtG4"
      },
      "execution_count": 43,
      "outputs": []
    }
  ]
}